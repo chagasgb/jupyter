{
 "cells": [
  {
   "cell_type": "code",
   "execution_count": 1,
   "id": "d631cf1a-9dfa-4285-a42f-3828e5cfbf11",
   "metadata": {},
   "outputs": [],
   "source": [
    "import pandas as pd"
   ]
  },
  {
   "cell_type": "code",
   "execution_count": 2,
   "id": "587d6e99-1486-4da3-99b0-6819f0dc05f5",
   "metadata": {},
   "outputs": [],
   "source": [
    "df_basejc = pd.read_csv('base_jc.csv')"
   ]
  },
  {
   "cell_type": "code",
   "execution_count": 3,
   "id": "e0026e25-1807-4f0f-957b-4aeae6dec439",
   "metadata": {},
   "outputs": [],
   "source": [
    "dfbasejc5 = df_basejc.head(5)"
   ]
  },
  {
   "cell_type": "code",
   "execution_count": 8,
   "id": "f40fc833-420f-4838-910c-e9619e0527bf",
   "metadata": {},
   "outputs": [],
   "source": [
    "dfbasejc5 = dfbasejc5[['username', 'email', 'resource_name']]"
   ]
  },
  {
   "cell_type": "code",
   "execution_count": 9,
   "id": "24488346-ae68-4899-b5e8-c451eaf59709",
   "metadata": {},
   "outputs": [
    {
     "data": {
      "text/html": [
       "<div>\n",
       "<style scoped>\n",
       "    .dataframe tbody tr th:only-of-type {\n",
       "        vertical-align: middle;\n",
       "    }\n",
       "\n",
       "    .dataframe tbody tr th {\n",
       "        vertical-align: top;\n",
       "    }\n",
       "\n",
       "    .dataframe thead th {\n",
       "        text-align: right;\n",
       "    }\n",
       "</style>\n",
       "<table border=\"1\" class=\"dataframe\">\n",
       "  <thead>\n",
       "    <tr style=\"text-align: right;\">\n",
       "      <th></th>\n",
       "      <th>username</th>\n",
       "      <th>email</th>\n",
       "      <th>resource_name</th>\n",
       "    </tr>\n",
       "  </thead>\n",
       "  <tbody>\n",
       "    <tr>\n",
       "      <th>0</th>\n",
       "      <td>acelle.souza</td>\n",
       "      <td>acelle.souza@credihome.com.br</td>\n",
       "      <td>LOFT-W3664</td>\n",
       "    </tr>\n",
       "    <tr>\n",
       "      <th>1</th>\n",
       "      <td>adriana.dombroski</td>\n",
       "      <td>adriana.dombroski@credpago.com</td>\n",
       "      <td>CP-W3003</td>\n",
       "    </tr>\n",
       "    <tr>\n",
       "      <th>2</th>\n",
       "      <td>adriana.eleres</td>\n",
       "      <td>adriana.eleres@credpago.com</td>\n",
       "      <td>CP-CWB-W1124</td>\n",
       "    </tr>\n",
       "    <tr>\n",
       "      <th>3</th>\n",
       "      <td>adriana.gurkewicz</td>\n",
       "      <td>adriana.gurkewicz@credpago.com</td>\n",
       "      <td>CP-W3559</td>\n",
       "    </tr>\n",
       "    <tr>\n",
       "      <th>4</th>\n",
       "      <td>adriana.oliveira</td>\n",
       "      <td>adriana.oliveira@credpago.com</td>\n",
       "      <td>CP-CWB-W1150</td>\n",
       "    </tr>\n",
       "  </tbody>\n",
       "</table>\n",
       "</div>"
      ],
      "text/plain": [
       "            username                           email resource_name\n",
       "0       acelle.souza   acelle.souza@credihome.com.br    LOFT-W3664\n",
       "1  adriana.dombroski  adriana.dombroski@credpago.com      CP-W3003\n",
       "2     adriana.eleres     adriana.eleres@credpago.com  CP-CWB-W1124\n",
       "3  adriana.gurkewicz  adriana.gurkewicz@credpago.com      CP-W3559\n",
       "4   adriana.oliveira   adriana.oliveira@credpago.com  CP-CWB-W1150"
      ]
     },
     "metadata": {},
     "output_type": "display_data"
    }
   ],
   "source": [
    "display(dfbasejc5)"
   ]
  },
  {
   "cell_type": "code",
   "execution_count": null,
   "id": "42b921e3-5b33-4c38-bcbf-b34d84bf987b",
   "metadata": {},
   "outputs": [],
   "source": []
  },
  {
   "cell_type": "code",
   "execution_count": null,
   "id": "968ffff8-4528-423c-9afa-ec532af01ef7",
   "metadata": {},
   "outputs": [],
   "source": []
  }
 ],
 "metadata": {
  "kernelspec": {
   "display_name": "Python 3 (ipykernel)",
   "language": "python",
   "name": "python3"
  },
  "language_info": {
   "codemirror_mode": {
    "name": "ipython",
    "version": 3
   },
   "file_extension": ".py",
   "mimetype": "text/x-python",
   "name": "python",
   "nbconvert_exporter": "python",
   "pygments_lexer": "ipython3",
   "version": "3.11.6"
  }
 },
 "nbformat": 4,
 "nbformat_minor": 5
}
